{
 "cells": [
  {
   "cell_type": "markdown",
   "metadata": {},
   "source": [
    "## playing with parallelism\n"
   ]
  },
  {
   "cell_type": "code",
   "execution_count": 1,
   "metadata": {},
   "outputs": [
    {
     "name": "stdout",
     "output_type": "stream",
     "text": [
      "[1] 0\n"
     ]
    }
   ],
   "source": [
    "print(system('hostname'))"
   ]
  },
  {
   "cell_type": "code",
   "execution_count": 7,
   "metadata": {},
   "outputs": [
    {
     "name": "stdout",
     "output_type": "stream",
     "text": [
      "[1] \"3ff288903d14\"                                                          \n",
      "[2] \" 23:26:30 up 61 days,  6:49,  0 users,  load average: 0.06, 0.39, 0.34\"\n"
     ]
    }
   ],
   "source": [
    "print(system('hostname; uptime', intern=TRUE))\n"
   ]
  },
  {
   "cell_type": "code",
   "execution_count": 22,
   "metadata": {},
   "outputs": [
    {
     "name": "stderr",
     "output_type": "stream",
     "text": [
      "Installing package into ‘/usr/local/lib/R/site-library’\n",
      "(as ‘lib’ is unspecified)\n",
      "\n"
     ]
    }
   ],
   "source": [
    "install.packages('doSNOW')"
   ]
  },
  {
   "cell_type": "code",
   "execution_count": 24,
   "metadata": {},
   "outputs": [],
   "source": [
    "library(snow)\n",
    "library(doSNOW)"
   ]
  },
  {
   "cell_type": "code",
   "execution_count": 19,
   "metadata": {},
   "outputs": [
    {
     "name": "stdout",
     "output_type": "stream",
     "text": [
      "[1] \"detectCores\" \"16\"         \n"
     ]
    },
    {
     "ename": "ERROR",
     "evalue": "Error in checkForRemoteErrors(lapply(cl, recvResult)): 4 nodes produced errors; first error: there is no package called ‘doSNOW’\n",
     "output_type": "error",
     "traceback": [
      "Error in checkForRemoteErrors(lapply(cl, recvResult)): 4 nodes produced errors; first error: there is no package called ‘doSNOW’\nTraceback:\n",
      "1. clusterCall(clus1, function() {\n .     library(doSNOW)\n .     registerDoSNOW(makeCluseter(3, type = \"SOCK\"))\n .     foreach(j = 1:4) %dopar% {\n .         c(j, j^3)\n .     }\n . })",
      "2. checkForRemoteErrors(lapply(cl, recvResult))",
      "3. stop(count, \" nodes produced errors; first error: \", firstmsg)"
     ]
    }
   ],
   "source": [
    "library(doParallel)\n",
    "\n",
    "\n",
    "NumThread = detectCores() ## return number of cores on machine\n",
    "print(c('detectCores', detectCores()))\n",
    "\n",
    "NumThread = 4\n",
    "\n",
    "\n",
    "clus1 = makeCluster( NumThread, outfile=\"clus1.out\", type = \"SOCK\" )   ## create a cluster object\n",
    "\n",
    "clusterCall(clus1, function() {\n",
    "    library(doSNOW)\n",
    "    registerDoSNOW(makeCluseter(3, type=\"SOCK\"))\n",
    "    foreach(j=1:4) %dopar% {\n",
    "        c(j, j^3)\n",
    "    }\n",
    "    \n",
    "    \n",
    "})\n",
    "\n",
    "\n",
    "registerDoParallel(clus1)\n",
    "foreach(i=1:4) %dopar% {\n",
    "    c(i, i^2)\n",
    "\n",
    "}\n",
    "\n",
    "    # the %dopar% says to run the foreach loop in parallel for each item\n",
    "    # all console output inside cluster object will go to outfile \n",
    "    # there are eg combine=rbind to merge result\n",
    "\n",
    "stopCluster(clus1)\n",
    "\n"
   ]
  },
  {
   "cell_type": "code",
   "execution_count": null,
   "metadata": {},
   "outputs": [],
   "source": []
  }
 ],
 "metadata": {
  "kernelspec": {
   "display_name": "R",
   "language": "R",
   "name": "ir"
  },
  "language_info": {
   "codemirror_mode": "r",
   "file_extension": ".r",
   "mimetype": "text/x-r-source",
   "name": "R",
   "pygments_lexer": "r",
   "version": "4.0.2"
  }
 },
 "nbformat": 4,
 "nbformat_minor": 4
}
